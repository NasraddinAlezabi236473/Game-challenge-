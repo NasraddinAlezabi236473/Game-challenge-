{
 "cells": [
  {
   "cell_type": "markdown",
   "id": "34b3e7f9",
   "metadata": {},
   "source": [
    "### Clau-hee chatbot interaction initial test"
   ]
  },
  {
   "cell_type": "code",
   "execution_count": 46,
   "id": "9e4ba574",
   "metadata": {},
   "outputs": [
    {
     "name": "stdout",
     "output_type": "stream",
     "text": [
      "Welcome to the Compliance Challenge!\n",
      "Let's test your knowledge of our Gift Policy. Answer True or False.\n",
      "You'll be asked 5 questions.... on our Gift Policy.\n",
      "One wrong move.. you will be eliminated!\n",
      "Answer 5 questions in a row to win!, think smart!\n",
      "Let the game begin!!\n"
     ]
    }
   ],
   "source": [
    "print('Welcome to the Compliance Challenge!')\n",
    "print(\"Let's test your knowledge of our Gift Policy. Answer True or False.\")\n",
    "print(\"You'll be asked 5 questions.... on our Gift Policy.\")\n",
    "print(\"One wrong move.. you will be eliminated!\")\n",
    "print(\"Answer 5 questions in a row to win!, think smart!\")\n",
    "print(\"Let the game begin!!\")"
   ]
  },
  {
   "cell_type": "markdown",
   "id": "cde97f17",
   "metadata": {},
   "source": [
    "## Compliance Questions"
   ]
  },
  {
   "cell_type": "code",
   "execution_count": 39,
   "id": "5918b689",
   "metadata": {},
   "outputs": [],
   "source": [
    "questions = [\n",
    "    {\n",
    "        \"question\": \"Based on the Gift Policy, it's acceptable to give a small gift in cash to a vendor during holiday season.\",\n",
    "        \"answer\": False,\n",
    "        \"level\": \"easy\",\n",
    "        \"explanation\": \"The policy prohibits cash or cash equivalents, regardless of the amount or occasion.\"\n",
    "    },\n",
    "\n",
    "    {\n",
    "        \"question\": \"A promotional mug worth $10, given at a public product launch event, is allowed under the Gift Policy.\",\n",
    "        \"answer\": True,\n",
    "        \"level\": \"easy\",\n",
    "        \"explanation\": \"The gift is reasonable, below the threshold, openly given, and part of a legitimate business event.\"\n",
    "    },\n",
    "\n",
    "    {\n",
    "       \"question\": \"According to the Gift Policy, giving a gift in secret is acceptable if the value is within the allowed threshold.\",\n",
    "        \"answer\": False,\n",
    "        \"level\": \"medium\",\n",
    "        \"explanation\": \"Gifts must be given openly. Secrecy violates the policy even if the value is under the threshold.\"\n",
    "    }, \n",
    "\n",
    "     {\n",
    "       \"question\": \"Sponsorships can include providing your organization's products or services as in-kind contributions to a third party, with the expectation of brand association.\",\n",
    "        \"answer\": True,\n",
    "        \"level\": \"hard\",\n",
    "        \"explanation\": \"Sponsorships involve in-kind contributions to promote brand association with an event or activity.\"\n",
    "    },  \n",
    "\n",
    "    {\n",
    "       \"question\": \"Donations are voluntary payments in the form of money, in-kind contributions, or anything of value to a non-profit or charitable organization, with no expectation of receiving a tangible benefit in return.\",\n",
    "       \"answer\": True,\n",
    "       \"level\": \"hard\",\n",
    "       \"explanation\": \"Donations are made without expecting any measurable benefit or service in return.\"\n",
    "    }\n",
    "]\n",
    "\n",
    "\n",
    "    \n",
    "    "
   ]
  },
  {
   "cell_type": "markdown",
   "id": "ea40d95f",
   "metadata": {},
   "source": [
    "#### Building dialogue logic "
   ]
  },
  {
   "cell_type": "markdown",
   "id": "3b7bb740",
   "metadata": {},
   "source": [
    "Presents a question  \n",
    "Easy medium to difficulty   \n",
    "Returns if the user incorrectly answers  \n",
    "5 streak win, wins the game!!\n"
   ]
  },
  {
   "cell_type": "markdown",
   "id": "8f90a478",
   "metadata": {},
   "source": [
    "def ask_question(q):\n",
    "    print(q[\"question\"])\n",
    "    user_input = input(\"True or False? \").strip().lower()\n",
    "    \n",
    "    is_correct = (user_input == \"true\" and q[\"answer\"] is True) or (user_input == \"false\" and q[\"answer\"] is False)\n",
    "    \n",
    "    if is_correct:\n",
    "        print(\"✅ Correct! \" + q[\"explanation\"])\n",
    "        return True\n",
    "    else:\n",
    "        print(\"❌ Incorrect. \" + q[\"explanation\"])\n",
    "        return False\n",
    "\n",
    "correct_count = 0\n",
    "history = []\n"
   ]
  },
  {
   "cell_type": "code",
   "execution_count": null,
   "id": "ff5154cb",
   "metadata": {},
   "outputs": [],
   "source": [
    "def ask_question(q):\n",
    "    print(f\"Clau-Hee: {q['question']}\")\n",
    "    user_input = input(\"Your answer (True/False): \").strip().lower()\n",
    "    \n",
    "    is_correct = (user_input == \"true\" and q[\"answer\"] is True) or (user_input == \"false\" and q[\"answer\"] is False)\n",
    "    \n",
    "    if is_correct:\n",
    "        print(f\"Clau-Hee: ✅ Correct! {q['explanation']}\")\n",
    "        return True\n",
    "    else:\n",
    "        print(f\"Clau-Hee: ❌ Incorrect. {q['explanation']}\")\n",
    "        return False\n",
    "\n",
    "correct_count = 0\n",
    "history = []"
   ]
  },
  {
   "cell_type": "markdown",
   "id": "d57baa7a",
   "metadata": {},
   "source": [
    "## compliance quiz "
   ]
  },
  {
   "cell_type": "code",
   "execution_count": 41,
   "id": "bebc7705",
   "metadata": {},
   "outputs": [
    {
     "name": "stdout",
     "output_type": "stream",
     "text": [
      "\n",
      "Question 1: Easy\n",
      "Clau-Hee: Based on the Gift Policy, it's acceptable to give a small gift in cash to a vendor during holiday season.\n",
      "Clau-Hee: ✅ Correct! The policy prohibits cash or cash equivalents, regardless of the amount or occasion.\n",
      "\n",
      "Question 2: Easy\n",
      "Clau-Hee: A promotional mug worth $10, given at a public product launch event, is allowed under the Gift Policy.\n",
      "Clau-Hee: ✅ Correct! The gift is reasonable, below the threshold, openly given, and part of a legitimate business event.\n",
      "\n",
      "Question 3: Medium\n",
      "Clau-Hee: According to the Gift Policy, giving a gift in secret is acceptable if the value is within the allowed threshold.\n",
      "Clau-Hee: ✅ Correct! Gifts must be given openly. Secrecy violates the policy even if the value is under the threshold.\n",
      "\n",
      "Question 4: Hard\n",
      "Clau-Hee: Sponsorships can include providing your organization's products or services as in-kind contributions to a third party, with the expectation of brand association.\n",
      "Clau-Hee: ✅ Correct! Sponsorships involve in-kind contributions to promote brand association with an event or activity.\n",
      "\n",
      "Question 5: Hard\n",
      "Clau-Hee: Donations are voluntary payments in the form of money, in-kind contributions, or anything of value to a non-profit or charitable organization, with no expectation of receiving a tangible benefit in return.\n",
      "Clau-Hee: ✅ Correct! Donations are made without expecting any measurable benefit or service in return.\n"
     ]
    }
   ],
   "source": [
    "available_questions = [q for q in questions if q[\"level\"] == \"easy\"]\n",
    "\n",
    "# Preload next levels\n",
    "available_questions.extend([q for q in questions if q[\"level\"] == \"medium\"])\n",
    "available_questions.extend([q for q in questions if q[\"level\"] == \"hard\"])\n",
    "\n",
    "for i in range(5):  # Max of 5 rounds\n",
    "    q = available_questions[i]\n",
    "    print(f\"\\nQuestion {i + 1}: {q['level'].capitalize()}\")\n",
    "    result = ask_question(q)\n",
    "    history.append({\"question\": q[\"question\"], \"result\": result})\n",
    "\n",
    "    if result:\n",
    "        correct_count += 1\n",
    "    else:\n",
    "        print(\"\\nClau-Hee: Game over! Try again next time.\")\n",
    "        break"
   ]
  },
  {
   "cell_type": "code",
   "execution_count": null,
   "id": "e500aa1c",
   "metadata": {},
   "outputs": [
    {
     "name": "stdout",
     "output_type": "stream",
     "text": [
      "\n",
      "Clau-Hee: CONGRATULATIONS! You answered all 5 questions correctly.\n",
      "Clau-Hee: You are now a Compliance Champion! You are Ethical!\n"
     ]
    }
   ],
   "source": [
    "\n",
    "if correct_count == 5:\n",
    "    print(\"\\nClau-Hee: CONGRATULATIONS! You answered all 5 questions correctly.\")\n",
    "    print(\"Clau-Hee: You are now a Compliance Champion!\")\n",
    "\n"
   ]
  },
  {
   "cell_type": "markdown",
   "id": "61485682",
   "metadata": {},
   "source": []
  }
 ],
 "metadata": {
  "kernelspec": {
   "display_name": "Python 3",
   "language": "python",
   "name": "python3"
  },
  "language_info": {
   "codemirror_mode": {
    "name": "ipython",
    "version": 3
   },
   "file_extension": ".py",
   "mimetype": "text/x-python",
   "name": "python",
   "nbconvert_exporter": "python",
   "pygments_lexer": "ipython3",
   "version": "3.10.16"
  }
 },
 "nbformat": 4,
 "nbformat_minor": 5
}
